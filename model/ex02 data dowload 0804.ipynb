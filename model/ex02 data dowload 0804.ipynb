{
 "cells": [
  {
   "cell_type": "code",
   "execution_count": 222,
   "metadata": {
    "collapsed": true
   },
   "outputs": [],
   "source": [
    "import pprint\n",
    "import json\n",
    "import urllib\n",
    "import pandas as pd\n",
    "import random\n",
    "import numpy as np"
   ]
  },
  {
   "cell_type": "markdown",
   "metadata": {},
   "source": [
    "# cnv2utf8 （網址中文部分需要用URLEncode 轉換成 UTF-8）"
   ]
  },
  {
   "cell_type": "code",
   "execution_count": 223,
   "metadata": {
    "collapsed": false
   },
   "outputs": [],
   "source": [
    "def cnv2utf8(mstr):\n",
    "    #print mstr\n",
    "    #print urllib.quote(mstr.encode(u\"utf8\"))\n",
    "    return urllib.quote(mstr.encode(u\"utf8\"))\n"
   ]
  },
  {
   "cell_type": "markdown",
   "metadata": {},
   "source": [
    "# 可以看json中文字的程式碼"
   ]
  },
  {
   "cell_type": "code",
   "execution_count": 224,
   "metadata": {
    "collapsed": true
   },
   "outputs": [],
   "source": [
    "class MyPrettyPrinter(pprint.PrettyPrinter):\n",
    "    def format(self, object, context, maxlevels, level):\n",
    "        if isinstance(object, unicode):\n",
    "            return (object.encode('utf8'), True, False)\n",
    "        return pprint.PrettyPrinter.format(self, object, context, maxlevels, level)\n",
    "def printJson(aObj):\n",
    "    MyPrettyPrinter().pprint(aObj)"
   ]
  },
  {
   "cell_type": "markdown",
   "metadata": {},
   "source": [
    "# 傳入六個變數，回傳一個Json\n",
    "- 地點\n",
    "- 產品\n",
    "- 前幾名資料\n",
    "- 跳過多少資料量\n",
    "- 交易結束時間\n",
    "- 交易開始時間"
   ]
  },
  {
   "cell_type": "code",
   "execution_count": 225,
   "metadata": {
    "collapsed": false
   },
   "outputs": [],
   "source": [
    "def getData(location, product, top, skip, EndDate, StartDate):\n",
    "    \n",
    "    ##變數宣告\n",
    "    # url是API的網址\n",
    "    # ahash是替代的變數值\n",
    "    url = u\"http://m.coa.gov.tw/OpenData/FarmTransData.aspx?$top={top}&$skip={skip}&Market={Market}&Crop={Crop}&EndDate={EndDate}&StartDate={StartDate}\"\n",
    "    ahash={\n",
    "          u\"{top}\"      :top,\n",
    "          u\"{skip}\"     :skip,\n",
    "          u\"{Market}\"   :cnv2utf8(location),\n",
    "          u\"{Crop}\"     :cnv2utf8(product),\n",
    "          u\"{EndDate}\"  :EndDate,\n",
    "          u\"{StartDate}\":StartDate,\n",
    "    }\n",
    "    \n",
    "    ## 這裡再做的就是將ahash內的key用value換掉\n",
    "    for abc in ahash:\n",
    "        url=url.replace(abc,ahash[abc])\n",
    "    #print url\n",
    "\n",
    "    # 到API抓資料回來\n",
    "    rsps = urllib.urlopen( url.encode(u\"utf8\") )\n",
    "    \n",
    "    np.random.seed(1337) \n",
    "    alist = [1, 2, 3, 4, 5]\n",
    "\n",
    "    for x in alist:\n",
    "        if int(np.random.random()*10)>7 :\n",
    "            print \"X\"\n",
    "        else:\n",
    "            print x\n",
    "    return json.loads(rsps.read())\n",
    "    "
   ]
  },
  {
   "cell_type": "code",
   "execution_count": 226,
   "metadata": {
    "collapsed": false
   },
   "outputs": [
    {
     "name": "stdout",
     "output_type": "stream",
     "text": [
      "1\n",
      "2\n",
      "3\n",
      "4\n",
      "5\n"
     ]
    }
   ],
   "source": [
    "pd.read_json(json.dumps(getData(u\"\", u\"本島萵苣\", u\"10000\", u\"\",u\"105.06.30\",u\"103.05.01\"))).to_csv(u\"123.csv\",encoding='utf-8')"
   ]
  },
  {
   "cell_type": "markdown",
   "metadata": {},
   "source": [
    "    url = u\"http://m.coa.gov.tw/OpenData/FarmTransData.aspx?$top={top}&$skip={skip}&Market={Market}&Crop={Crop}\"\n",
    "    ahash={\n",
    "          u\"{top}\"   :u\"100\",\n",
    "          u\"{skip}\"  :u\"0\",\n",
    "          u\"{Market}\":cnv2utf8(u\"台北二\"),\n",
    "          u\"{Crop}\"  :cnv2utf8(u\"椰子\"),\n",
    "    }\n",
    "\n",
    "    ## 這裡再做的就是將ahash內的key用value換掉\n",
    "\n",
    "    for abc in ahash:\n",
    "        url=url.replace(abc,ahash[abc])\n",
    "    #print url\n",
    "\n",
    "    # 到API抓資料回來\n",
    "\n",
    "    rsps = urllib.urlopen( url.encode(u\"utf8\") )\n",
    "    data = json.loads(rsps.read())"
   ]
  },
  {
   "cell_type": "markdown",
   "metadata": {},
   "source": [
    "printJson(data)"
   ]
  },
  {
   "cell_type": "code",
   "execution_count": 227,
   "metadata": {
    "collapsed": true
   },
   "outputs": [],
   "source": [
    "#url = u\"http://m.coa.gov.tw/OpenData/FarmTransData.aspx?$top={top}&$skip={skip}&filter={filter}\""
   ]
  },
  {
   "cell_type": "code",
   "execution_count": 228,
   "metadata": {
    "collapsed": false
   },
   "outputs": [],
   "source": [
    "#ahash={u\"99110001\":u\"August\",\n",
    "#       u\"99110002\":u\"vicky\"}"
   ]
  },
  {
   "cell_type": "code",
   "execution_count": 229,
   "metadata": {
    "collapsed": false
   },
   "outputs": [],
   "source": [
    "# ahash[u\"99110001\"]"
   ]
  },
  {
   "cell_type": "code",
   "execution_count": 230,
   "metadata": {
    "collapsed": false
   },
   "outputs": [
    {
     "ename": "IndentationError",
     "evalue": "unexpected indent (<ipython-input-230-725b752c7675>, line 2)",
     "output_type": "error",
     "traceback": [
      "\u001b[0;36m  File \u001b[0;32m\"<ipython-input-230-725b752c7675>\"\u001b[0;36m, line \u001b[0;32m2\u001b[0m\n\u001b[0;31m    u\"{top}\":u\"20\",\u001b[0m\n\u001b[0m    ^\u001b[0m\n\u001b[0;31mIndentationError\u001b[0m\u001b[0;31m:\u001b[0m unexpected indent\n"
     ]
    }
   ],
   "source": [
    "# ahash={\n",
    "      u\"{top}\":u\"20\",\n",
    "      u\"{skip}\":u\"100\",\n",
    "      u\"{filter}\":u\"Market=台北二&Crop=椰子\",\n",
    "# }"
   ]
  },
  {
   "cell_type": "code",
   "execution_count": null,
   "metadata": {
    "collapsed": false
   },
   "outputs": [],
   "source": [
    "# ahash"
   ]
  },
  {
   "cell_type": "code",
   "execution_count": null,
   "metadata": {
    "collapsed": false
   },
   "outputs": [],
   "source": [
    "#ahash"
   ]
  },
  {
   "cell_type": "code",
   "execution_count": null,
   "metadata": {
    "collapsed": false
   },
   "outputs": [],
   "source": [
    "# for abc in ahash:\n",
    "    print abc,ahash[abc]"
   ]
  },
  {
   "cell_type": "code",
   "execution_count": null,
   "metadata": {
    "collapsed": true
   },
   "outputs": [],
   "source": [
    "#url.replace(u\"gov\",u\"com\")"
   ]
  },
  {
   "cell_type": "code",
   "execution_count": null,
   "metadata": {
    "collapsed": false
   },
   "outputs": [],
   "source": [
    "#urllib.quote(u\"椰子\".encode(u\"utf8\"))"
   ]
  },
  {
   "cell_type": "code",
   "execution_count": null,
   "metadata": {
    "collapsed": true
   },
   "outputs": [],
   "source": [
    "#ahash={\n",
    "      u\"{top}\":u\"20\",\n",
    "      u\"{skip}\":u\"100\",\n",
    "      u\"{filter}\":urllib.quote(u\"Market=台北二&Crop=椰子\".encode(u\"utf8\")),\n",
    "#}"
   ]
  },
  {
   "cell_type": "code",
   "execution_count": null,
   "metadata": {
    "collapsed": true
   },
   "outputs": [],
   "source": []
  }
 ],
 "metadata": {
  "kernelspec": {
   "display_name": "Python [Root]",
   "language": "python",
   "name": "Python [Root]"
  },
  "language_info": {
   "codemirror_mode": {
    "name": "ipython",
    "version": 2
   },
   "file_extension": ".py",
   "mimetype": "text/x-python",
   "name": "python",
   "nbconvert_exporter": "python",
   "pygments_lexer": "ipython2",
   "version": "2.7.12"
  }
 },
 "nbformat": 4,
 "nbformat_minor": 0
}
