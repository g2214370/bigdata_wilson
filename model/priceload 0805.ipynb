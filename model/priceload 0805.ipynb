{
 "cells": [
  {
   "cell_type": "code",
   "execution_count": 105,
   "metadata": {
    "collapsed": true
   },
   "outputs": [],
   "source": [
    "import json\n",
    "import urllib\n",
    "import pandas as pd\n",
    "import random\n",
    "import numpy as np\n",
    "import datetime"
   ]
  },
  {
   "cell_type": "markdown",
   "metadata": {},
   "source": [
    "# cnv2utf8 （網址中文部分需要用URLEncode 轉換成 UTF-8）"
   ]
  },
  {
   "cell_type": "code",
   "execution_count": 106,
   "metadata": {
    "collapsed": false
   },
   "outputs": [],
   "source": [
    "def cnv2utf8(mstr):\n",
    "    #print mstr\n",
    "    #print urllib.quote(mstr.encode(u\"utf8\"))\n",
    "    return urllib.quote(mstr.encode(u\"utf8\"))\n"
   ]
  },
  {
   "cell_type": "markdown",
   "metadata": {},
   "source": [
    "# 可以看json中文字的程式碼"
   ]
  },
  {
   "cell_type": "code",
   "execution_count": 107,
   "metadata": {
    "collapsed": true
   },
   "outputs": [],
   "source": [
    "class MyPrettyPrinter(pprint.PrettyPrinter):\n",
    "    def format(self, object, context, maxlevels, level):\n",
    "        if isinstance(object, unicode):\n",
    "            return (object.encode('utf8'), True, False)\n",
    "        return pprint.PrettyPrinter.format(self, object, context, maxlevels, level)\n",
    "def printJson(aObj):\n",
    "    MyPrettyPrinter().pprint(aObj)"
   ]
  },
  {
   "cell_type": "markdown",
   "metadata": {},
   "source": [
    "# 傳入六個變數，回傳一個Json\n",
    "- 地點\n",
    "- 產品\n",
    "- 前幾名資料\n",
    "- 跳過多少資料量\n",
    "- 交易結束時間\n",
    "- 交易開始時間"
   ]
  },
  {
   "cell_type": "code",
   "execution_count": 108,
   "metadata": {
    "collapsed": false
   },
   "outputs": [
    {
     "data": {
      "text/plain": [
       "5"
      ]
     },
     "execution_count": 108,
     "metadata": {},
     "output_type": "execute_result"
    }
   ],
   "source": [
    "def cnv2Weekday(mstr):\n",
    "    yy, mm, dd = mstr.split(\".\")\n",
    "    return datetime.datetime(int(yy)+1911, int(mm), int(dd)).weekday()\n",
    "    \n",
    "cnv2Weekday('105.06.25')"
   ]
  },
  {
   "cell_type": "code",
   "execution_count": 109,
   "metadata": {
    "collapsed": false
   },
   "outputs": [],
   "source": [
    "def getData(location, product, top, skip, EndDate, StartDate):\n",
    "    \n",
    "    ##變數宣告\n",
    "    # url是API的網址\n",
    "    # ahash是替代的變數值\n",
    "    url = u\"http://m.coa.gov.tw/OpenData/FarmTransData.aspx?$top={top}&$skip={skip}&Market={Market}&Crop={Crop}&EndDate={EndDate}&StartDate={StartDate}\"\n",
    "    ahash={\n",
    "          u\"{top}\"      :top,\n",
    "          u\"{skip}\"     :skip,\n",
    "          u\"{Market}\"   :cnv2utf8(location),\n",
    "          u\"{Crop}\"     :cnv2utf8(product),\n",
    "          u\"{EndDate}\"  :EndDate,\n",
    "          u\"{StartDate}\":StartDate,\n",
    "    }\n",
    "    \n",
    "    ## 這裡再做的就是將ahash內的key用value換掉\n",
    "    for abc in ahash:\n",
    "        url=url.replace(abc,ahash[abc])\n",
    "    #print url\n",
    "\n",
    "    # 到API抓資料回來\n",
    "    rsps = urllib.urlopen( url.encode(u\"utf8\") )\n",
    "    pd_data = pd.read_json(rsps.read().decode(u\"utf8\"))\n",
    "    pd_data['Weekday'] = [ cnv2Weekday(x) for x in pd_data[u'交易日期']]\n",
    "    return pd_data\n"
   ]
  },
  {
   "cell_type": "code",
   "execution_count": 110,
   "metadata": {
    "collapsed": false
   },
   "outputs": [],
   "source": [
    "getData(u\"\", u\"甘藍\", u\" \", u\"\",u\"105.06.30\",u\"102.06.01\").to_csv('test.csv', encoding=\"utf8\")"
   ]
  },
  {
   "cell_type": "code",
   "execution_count": 111,
   "metadata": {
    "collapsed": false
   },
   "outputs": [],
   "source": [
    "#print \"%d-%02d-%02d\"%( 105, 8, 1)"
   ]
  },
  {
   "cell_type": "code",
   "execution_count": null,
   "metadata": {
    "collapsed": true
   },
   "outputs": [],
   "source": []
  }
 ],
 "metadata": {
  "kernelspec": {
   "display_name": "Python [Root]",
   "language": "python",
   "name": "Python [Root]"
  },
  "language_info": {
   "codemirror_mode": {
    "name": "ipython",
    "version": 2
   },
   "file_extension": ".py",
   "mimetype": "text/x-python",
   "name": "python",
   "nbconvert_exporter": "python",
   "pygments_lexer": "ipython2",
   "version": "2.7.12"
  }
 },
 "nbformat": 4,
 "nbformat_minor": 0
}
